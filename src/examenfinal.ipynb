{
 "cells": [
  {
   "cell_type": "markdown",
   "metadata": {},
   "source": [
    "# IFT870 - Examen final\n",
    "\n",
    "Auteur : Aurélien Vauthier (19 126 456)"
   ]
  },
  {
   "cell_type": "code",
   "metadata": {},
   "source": [
    "from sklearn.decomposition import PCA\n",
    "from sklearn.cluster import KMeans, DBSCAN\n",
    "from sklearn.metrics import adjusted_rand_score, make_scorer, silhouette_score\n",
    "from sklearn.model_selection import GridSearchCV, StratifiedKFold\n",
    "from scipy.spatial.distance import cdist, pdist, squareform\n",
    "from itertools import product\n",
    "from tqdm import tqdm\n",
    "import numpy as np\n",
    "import pandas as pd\n",
    "# %matplotlib notebook\n",
    "import matplotlib.pyplot as plt\n",
    "import seaborn as sns"
   ],
   "outputs": [],
   "execution_count": null
  },
  {
   "cell_type": "code",
   "metadata": {},
   "source": [
    "# Chargement d'un ensemble de données de faces de personnages connus\n",
    "from sklearn.datasets import fetch_lfw_people"
   ],
   "outputs": [],
   "execution_count": null
  },
  {
   "cell_type": "code",
   "metadata": {},
   "source": [
    "faces = fetch_lfw_people(min_faces_per_person=20, resize=0.7)"
   ],
   "outputs": [],
   "execution_count": null
  },
  {
   "cell_type": "code",
   "metadata": {},
   "source": [
    "# format des images et nombres de clusters\n",
    "print(\"Format des images: {}\".format(faces.images.shape))\n",
    "print(\"Nombre de classes: {}\".format(len(faces.target_names)))"
   ],
   "outputs": [],
   "execution_count": null
  },
  {
   "cell_type": "code",
   "metadata": {},
   "source": [
    "# nombre de données par cluster\n",
    "nombres = np.bincount(faces.target)\n",
    "for i, (nb, nom) in enumerate(zip(nombres, faces.target_names)):\n",
    "    print(\"{0:25} {1:3}\".format(nom, nb), end='   ')\n",
    "    if (i + 1) % 3 == 0:\n",
    "        print()"
   ],
   "outputs": [],
   "execution_count": null
  },
  {
   "cell_type": "code",
   "metadata": {},
   "source": [
    "# Affichage des 10 premières faces\n",
    "fig, axes = plt.subplots(2, 5, figsize=(10, 6),\n",
    "                         subplot_kw={'xticks': (), 'yticks': ()})\n",
    "for nom, image, ax in zip(faces.target, faces.images, axes.ravel()):\n",
    "    ax.imshow(image)\n",
    "    ax.set_title(faces.target_names[nom])"
   ],
   "outputs": [],
   "execution_count": null
  },
  {
   "cell_type": "code",
   "metadata": {},
   "source": [
    "# Convert data array to DataFrame and append targets\n",
    "data = pd.DataFrame(faces.data)\n",
    "data[\"target\"] = faces.target\n",
    "\n",
    "# keep the first 40 data for each target\n",
    "data = data.groupby(\"target\").head(40)\n",
    "\n",
    "# show results\n",
    "data.head()"
   ],
   "outputs": [],
   "execution_count": null
  },
  {
   "cell_type": "markdown",
   "metadata": {},
   "source": [
    "## Question 1 : Robustesse aux changement de paramètres d’un modèle KMeans ou AgglomerativeCLustering\n",
    "\n",
    "*Écrivez une fonction prenant en paramètre une instance de la classe KMeans ou de la\n",
    "classe AgglomerativeClustering, et retournant la robustesse de cette instance, calculée\n",
    "comme suit :*\n",
    "\n",
    "*Faire varier uniquement le paramètre n_clusters de l’instance en lui additionnant les valeurs \n",
    "`[-5,-4,-3,-2,-1,0,1,2,3,4,5]`. Pour chaque valeur du paramètre n_clusters, entraîner le modèle et\n",
    "prédire un clustering. Calculer le score de robustesse R correspondant aux 11 clusterings obtenus.*"
   ]
  },
  {
   "cell_type": "code",
   "metadata": {},
   "source": [],
   "outputs": [],
   "execution_count": null
  },
  {
   "cell_type": "markdown",
   "metadata": {},
   "source": [
    "*Calculer la robustesse des modèles : KMeans(n_clusters=k, random_state=0) et\n",
    "AgglomerativeClustering(n_clusters=k) pour k = 40, 60 ou 80. Quel est le modèle le plus\n",
    "robuste suivant le score R ?*"
   ]
  },
  {
   "cell_type": "code",
   "metadata": {},
   "source": [],
   "outputs": [],
   "execution_count": null
  },
  {
   "cell_type": "markdown",
   "metadata": {},
   "source": [
    "## Question 2 : Robustesse aux changement de paramètres d’un modèle DBSCAN\n",
    "\n",
    "*Écrivez une fonction prenant en paramètre une instance du modèle DBSCAN, et\n",
    "retournant la robustesse de cette instance, calculée comme suit :*\n",
    "\n",
    "*Faire varier uniquement le paramètre eps de l’instance en lui additionnant les valeurs `[-0.5,-\n",
    "0.4,-0.3,-0.2,-0.1,0,0.1,0.2,0.3,0.4,0.5]`. Pour chaque valeur du paramètre eps, entraîner le\n",
    "modèle et prédire un clustering. Calculer le score de robustesse R correspondant aux 11\n",
    "clusterings obtenus.*"
   ]
  },
  {
   "cell_type": "code",
   "metadata": {},
   "source": [],
   "outputs": [],
   "execution_count": null
  },
  {
   "cell_type": "markdown",
   "metadata": {},
   "source": [
    "*Calculer la robustesse des modèles : DBSCAN(min_samples =3, eps=e) pour k = 7, 8 ou 9.\n",
    "Quel est le modèle le plus robuste suivant le score R ?*"
   ]
  },
  {
   "cell_type": "code",
   "metadata": {},
   "source": [],
   "outputs": [],
   "execution_count": null
  },
  {
   "cell_type": "markdown",
   "metadata": {},
   "source": [
    "## Question 3 : Robustesse à l’ajout de bruit d’un modèle KMeans ou AgglomerativeCLustering\n",
    "\n",
    "*Écrivez une fonction prenant en paramètres une instance de la classe KMeans ou de la\n",
    "classe AgglomerativeClustering et un entier X de valeur comprise entre 0 et 100\n",
    "représentant un pourcentage, et retournant la robustesse de cette instance, calculée comme\n",
    "suit :*\n",
    "\n",
    "*Générer aléatoirement 10 ensembles contenant chacun X*1960/100 données (bruit) de la\n",
    "même forme que les données utilisées (5655 dimensions) suivant la loi normale N(μ, σ2) pour\n",
    "chaque dimension telle que μ est la moyenne de la dimension et σ2 sa variance (utiliser\n",
    "numpy.random.randn par exemple). Le 11e ensemble de bruit est vide. Faire varier les\n",
    "données en leur ajoutant à chaque itération un des ensembles de bruit générés. Pour chaque\n",
    "itération, entraîner le modèle et prédire un clustering. Calculer le score de robustesse R\n",
    "correspondant aux 11 clusterings obtenus.*"
   ]
  },
  {
   "cell_type": "code",
   "metadata": {},
   "source": [],
   "outputs": [],
   "execution_count": null
  },
  {
   "cell_type": "markdown",
   "metadata": {},
   "source": [
    "*Calculer la robustesse des modèles : KMeans(n_clusters=k, random_state=0) et\n",
    "AgglomerativeClustering(n_clusters=k) pour k = 40, 60 ou 80, pour une valeur X = 5. Quel\n",
    "est le modèle le plus robuste suivant le score R ?*"
   ]
  },
  {
   "cell_type": "code",
   "metadata": {},
   "source": [],
   "outputs": [],
   "execution_count": null
  },
  {
   "cell_type": "markdown",
   "metadata": {},
   "source": [
    "## Question 4 : Robustesse aux changement de paramètres d’un modèle DBSCAN\n",
    "\n",
    "*Écrivez une fonction prenant en paramètre une instance du modèle DBSCAN et un\n",
    "entier X de valeur comprise entre 0 et 100 représentant un pourcentage, et retournant la\n",
    "robustesse de cette instance, calculée comme suit :*\n",
    "\n",
    "*Générer aléatoirement 11 ensembles de bruit (dont 1 vide) comme indiqué à la Question 3.\n",
    "Faire varier les données en leur ajoutant à chaque itération un des ensembles de bruit. Pour\n",
    "chaque itération, entraîner le modèle et prédire un clustering. Calculer le score de robustesse\n",
    "R correspondant aux 11 clusterings obtenus.*"
   ]
  },
  {
   "cell_type": "code",
   "metadata": {},
   "source": [],
   "outputs": [],
   "execution_count": null
  },
  {
   "cell_type": "markdown",
   "metadata": {},
   "source": [
    "*Calculer la robustesse des modèles : DBSCAN(min_samples =3, eps=e) pour k = 7, 8 ou 9,\n",
    "pour une valeur X = 5. Quel est le modèle le plus robuste suivant le score R ?*"
   ]
  },
  {
   "cell_type": "code",
   "metadata": {},
   "source": [],
   "outputs": [],
   "execution_count": null
  },
  {
   "cell_type": "markdown",
   "metadata": {},
   "source": [
    "## Question 5 : Modèle pour la génération du bruit\n",
    "\n",
    "*Critiquez le modèle utilisé pour générer le bruit dans les Questions 3 et 4. Proposez un autre\n",
    "modèle de bruit avec une justification du modèle.*"
   ]
  },
  {
   "cell_type": "markdown",
   "metadata": {},
   "source": []
  },
  {
   "cell_type": "code",
   "metadata": {},
   "source": [],
   "outputs": [],
   "execution_count": null
  }
 ],
 "metadata": {
  "anaconda-cloud": {},
  "kernelspec": {
   "display_name": "Python 3",
   "language": "python",
   "name": "python3"
  },
  "language_info": {
   "codemirror_mode": {
    "name": "ipython",
    "version": 3
   },
   "file_extension": ".py",
   "mimetype": "text/x-python",
   "name": "python",
   "nbconvert_exporter": "python",
   "pygments_lexer": "ipython3",
   "version": "3.6.1"
  },
  "pycharm": {
   "stem_cell": {
    "cell_type": "raw",
    "source": [],
    "metadata": {
     "collapsed": false
    }
   }
  }
 },
 "nbformat": 4,
 "nbformat_minor": 1
}